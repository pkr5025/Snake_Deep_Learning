{
 "cells": [
  {
   "cell_type": "code",
   "execution_count": 1,
   "metadata": {},
   "outputs": [],
   "source": [
    "import gym\n",
    "from gym import spaces\n",
    "from gym.utils import seeding\n",
    "from collections import deque\n",
    "%matplotlib notebook"
   ]
  },
  {
   "cell_type": "code",
   "execution_count": 2,
   "metadata": {},
   "outputs": [],
   "source": [
    "import numpy as np"
   ]
  },
  {
   "cell_type": "code",
   "execution_count": 70,
   "metadata": {},
   "outputs": [],
   "source": [
    "class SnakeEnv(gym.Env):\n",
    "    #### GYM IMPLEMENTATION ###\n",
    "    metadata = {'render.modes': ['human', 'not_human']}\n",
    "    def __init__(self):\n",
    "    # Definitions for game.\n",
    "    # Board 15 x 15 to start\n",
    "        self.score = 0\n",
    "        self.game_over = False \n",
    "        self.width = 10\n",
    "        self.height = 10\n",
    "        self.grid = np.array([np.zeros(self.width) for i in range(self.height)], dtype=object)\n",
    "        self.snake = deque()\n",
    "        # direction 0 = down, 1 = left, 2 = up, 3 = right\n",
    "        self.direction = 0\n",
    "    # Running score\n",
    "        self.score = 0\n",
    "    #Gym implementation members:\n",
    "        self.action_space = spaces.Discrete(4)\n",
    "        # each square can be empty, food, snake, snake head\n",
    "        self.observation_space = spaces.Box(low = np.array([0,0,0]), high=np.array([self.width, self.height, 4]), dtype=np.int)\n",
    "\n",
    "        self.reset()\n",
    "    def step(self, action):\n",
    "        \n",
    "        return\n",
    "    def reset(self):\n",
    "        self.direction = 0\n",
    "        self.snake = deque()\n",
    "        self.grid = np.array([np.zeros(self.width) for i in range(self.height)], dtype=object)\n",
    "        i = np.random.randint(0,self.width- 2 ) + 1\n",
    "        j = np.random.randint(0,self.height - 2) + 1 \n",
    "        # * is a nonhead part of the snake\n",
    "        self.grid[i,j] = \"*\"\n",
    "        self.snake.append((i,j))\n",
    "        # H is the head of the snake\n",
    "        self.grid[i+1,j] = \"H\"\n",
    "        self.snake.append((i+1,j))\n",
    "        # X is food, set initial food\n",
    "        k,l = i,j\n",
    "        while ((i==k and j==l) or (i+1 ==k and j==l)):\n",
    "            k = np.random.randint(0,self.width- 2 ) + 1\n",
    "            l = np.random.randint(0,self.height - 2) + 1\n",
    "        self.grid[k,l] = \"X\"\n",
    "        self.food = (k,l)\n",
    "    def updategrid(self):\n",
    "        self.grid = np.array([np.zeros(self.width) for i in range(self.height)], dtype=object)\n",
    "        temp_snake = self.snake.copy()\n",
    "        self.grid[temp_snake[-1]] = \"H\"\n",
    "        temp_snake.pop()\n",
    "        for body in temp_snake:\n",
    "            self.grid[body] = \"*\"\n",
    "        self.grid[self.food] = \"X\"\n",
    "    def render(self, mode='human', close=False):\n",
    "        self.updategrid()\n",
    "        print(self.grid)\n",
    "            \n",
    "            \n",
    "            \n",
    "    \n",
    "    ### SNAKE IMPLEMENTATION ###\n",
    "    def move(self, action):\n",
    "        ## check direction, if direction is opposite of input, continue straight\n",
    "        if (self.direction == action %2):\n",
    "            action = self.direction\n",
    "        new_pos = self.snake[-1]\n",
    "        if (action == 0): #down\n",
    "            new_pos_row = self.snake[-1][0]+1\n",
    "            new_pos_col = self.snake[-1][1]\n",
    "        if (action == 1): #left\n",
    "            new_pos_row = self.snake[-1][0]\n",
    "            new_pos_col = self.snake[-1][1]-1\n",
    "        if (action == 2): #up\n",
    "            new_pos_row = self.snake[-1][0]-1\n",
    "            new_pos_col = self.snake[-1][1]\n",
    "        if (action == 3): #right\n",
    "            new_pos_row = self.snake[-1][0]\n",
    "            new_pos_col = self.snake[-1][1]+1\n",
    "        # Check if snake CRASHES\n",
    "        new_pos = (new_pos_row, new_pos_col)\n",
    "        self.check_game_over(new_pos)\n",
    "        if (self.game_over):\n",
    "            print(self.score)\n",
    "            return\n",
    "        self.snake.append(new_pos)\n",
    "        \n",
    "        # Check if snake grows\n",
    "        if (new_pos != self.food):\n",
    "            self.snake.popleft()\n",
    "        else:\n",
    "            self.score +=1\n",
    "            self.add_food()\n",
    "    def add_food(self):\n",
    "        x_coord = np.random.randint(0,self.width-1)\n",
    "        y_coord = np.random.randint(0,self.height-1)\n",
    "        self.food = (x_coord, y_coord)\n",
    "        while(self.food in self.snake):\n",
    "            x_coord = np.random.randint(0,self.width-1)\n",
    "            y_coord = np.random.randint(0,self.height-1)\n",
    "            self.food = (x_coord, y_coord)\n",
    "            \n",
    "    def check_game_over(self, new_pos):\n",
    "        # Check if snake hits itself\n",
    "        if new_pos in self.snake:\n",
    "            self.game_over = True \n",
    "        # Check if snake hits the wall\n",
    "        if ((new_pos[0]<0) or (new_pos[0]>=self.width) or (new_pos[1]<0) or (new_pos[1]>=self.height)):\n",
    "            self.game_over = True\n",
    "    \n",
    "    \n",
    "    \n",
    "    "
   ]
  },
  {
   "cell_type": "code",
   "execution_count": 74,
   "metadata": {
    "scrolled": false
   },
   "outputs": [
    {
     "name": "stdout",
     "output_type": "stream",
     "text": [
      "[[0.0 0.0 0.0 0.0 0.0 0.0 0.0 0.0 0.0 0.0]\n",
      " [0.0 0.0 0.0 0.0 0.0 0.0 0.0 0.0 0.0 0.0]\n",
      " [0.0 0.0 0.0 0.0 0.0 0.0 0.0 0.0 0.0 0.0]\n",
      " [0.0 0.0 0.0 0.0 0.0 0.0 0.0 0.0 0.0 0.0]\n",
      " [0.0 0.0 0.0 0.0 0.0 0.0 0.0 0.0 0.0 0.0]\n",
      " [0.0 0.0 0.0 0.0 0.0 0.0 0.0 0.0 0.0 0.0]\n",
      " [0.0 '*' 'X' 0.0 0.0 0.0 0.0 0.0 0.0 0.0]\n",
      " [0.0 'H' 0.0 0.0 0.0 0.0 0.0 0.0 0.0 0.0]\n",
      " [0.0 0.0 0.0 0.0 0.0 0.0 0.0 0.0 0.0 0.0]\n",
      " [0.0 0.0 0.0 0.0 0.0 0.0 0.0 0.0 0.0 0.0]]\n",
      "[[0.0 0.0 0.0 0.0 0.0 0.0 0.0 0.0 0.0 0.0]\n",
      " [0.0 0.0 0.0 0.0 0.0 0.0 0.0 0.0 0.0 0.0]\n",
      " [0.0 0.0 0.0 0.0 0.0 0.0 0.0 0.0 0.0 0.0]\n",
      " [0.0 0.0 0.0 0.0 0.0 0.0 0.0 0.0 0.0 0.0]\n",
      " [0.0 0.0 0.0 0.0 0.0 0.0 0.0 0.0 0.0 0.0]\n",
      " [0.0 0.0 0.0 0.0 0.0 0.0 0.0 0.0 0.0 0.0]\n",
      " [0.0 0.0 'X' 0.0 0.0 0.0 0.0 0.0 0.0 0.0]\n",
      " [0.0 '*' 0.0 0.0 0.0 0.0 0.0 0.0 0.0 0.0]\n",
      " [0.0 'H' 0.0 0.0 0.0 0.0 0.0 0.0 0.0 0.0]\n",
      " [0.0 0.0 0.0 0.0 0.0 0.0 0.0 0.0 0.0 0.0]]\n",
      "[[0.0 0.0 0.0 0.0 0.0 0.0 0.0 0.0 0.0 0.0]\n",
      " [0.0 0.0 0.0 0.0 0.0 0.0 0.0 0.0 0.0 0.0]\n",
      " [0.0 0.0 0.0 0.0 0.0 0.0 0.0 0.0 0.0 0.0]\n",
      " [0.0 0.0 0.0 0.0 0.0 0.0 0.0 0.0 0.0 0.0]\n",
      " [0.0 0.0 0.0 0.0 0.0 0.0 0.0 0.0 0.0 0.0]\n",
      " [0.0 0.0 0.0 0.0 0.0 0.0 0.0 0.0 0.0 0.0]\n",
      " [0.0 0.0 'X' 0.0 0.0 0.0 0.0 0.0 0.0 0.0]\n",
      " [0.0 0.0 0.0 0.0 0.0 0.0 0.0 0.0 0.0 0.0]\n",
      " [0.0 '*' 0.0 0.0 0.0 0.0 0.0 0.0 0.0 0.0]\n",
      " [0.0 'H' 0.0 0.0 0.0 0.0 0.0 0.0 0.0 0.0]]\n",
      "0\n"
     ]
    }
   ],
   "source": [
    "env = SnakeEnv()\n",
    "while(not env.game_over):\n",
    "    env.render()\n",
    "    env.move(2)\n",
    "    "
   ]
  },
  {
   "cell_type": "code",
   "execution_count": 13,
   "metadata": {},
   "outputs": [
    {
     "data": {
      "text/plain": [
       "0"
      ]
     },
     "execution_count": 13,
     "metadata": {},
     "output_type": "execute_result"
    }
   ],
   "source": [
    "env.score"
   ]
  },
  {
   "cell_type": "code",
   "execution_count": 6,
   "metadata": {},
   "outputs": [
    {
     "name": "stdout",
     "output_type": "stream",
     "text": [
      "[[0.0 0.0 0.0 0.0 0.0 0.0 0.0 0.0 0.0 0.0]\n",
      " [0.0 0.0 0.0 0.0 0.0 0.0 0.0 0.0 0.0 0.0]\n",
      " [0.0 0.0 0.0 0.0 0.0 0.0 0.0 0.0 0.0 0.0]\n",
      " [0.0 0.0 0.0 0.0 0.0 0.0 0.0 0.0 0.0 0.0]\n",
      " [0.0 0.0 0.0 0.0 0.0 0.0 0.0 0.0 0.0 0.0]\n",
      " [0.0 0.0 0.0 0.0 0.0 0.0 0.0 0.0 0.0 0.0]\n",
      " [0.0 0.0 0.0 0.0 0.0 0.0 0.0 0.0 0.0 0.0]\n",
      " [0.0 0.0 0.0 0.0 0.0 0.0 0.0 0.0 0.0 0.0]\n",
      " [0.0 0.0 0.0 0.0 0.0 0.0 'X' '*' 0.0 0.0]\n",
      " [0.0 0.0 0.0 0.0 0.0 0.0 0.0 'H' 0.0 0.0]]\n"
     ]
    }
   ],
   "source": [
    "env.render()"
   ]
  },
  {
   "cell_type": "code",
   "execution_count": 7,
   "metadata": {},
   "outputs": [
    {
     "data": {
      "text/plain": [
       "array([[0.0, 0.0, 0.0, 0.0, 0.0, 0.0, 0.0, 0.0, 0.0, 0.0],\n",
       "       [0.0, 0.0, 0.0, 0.0, 0.0, 0.0, 0.0, 0.0, 0.0, 0.0],\n",
       "       [0.0, 0.0, 0.0, 0.0, 0.0, 0.0, 0.0, 0.0, 0.0, 0.0],\n",
       "       [0.0, 0.0, 0.0, 0.0, 0.0, 0.0, 0.0, 0.0, 0.0, 0.0],\n",
       "       [0.0, 0.0, 0.0, 0.0, 0.0, 0.0, 0.0, 0.0, 0.0, 0.0],\n",
       "       [0.0, 0.0, 0.0, 0.0, 0.0, 0.0, 0.0, 0.0, 0.0, 0.0],\n",
       "       [0.0, 0.0, 0.0, 0.0, 0.0, 0.0, 0.0, 0.0, 0.0, 0.0],\n",
       "       [0.0, 0.0, 0.0, 0.0, 0.0, 0.0, 0.0, 0.0, 0.0, 0.0],\n",
       "       [0.0, 0.0, 0.0, 0.0, 0.0, 0.0, 'X', '*', 0.0, 0.0],\n",
       "       [0.0, 0.0, 0.0, 0.0, 0.0, 0.0, 0.0, 'H', 0.0, 0.0]], dtype=object)"
      ]
     },
     "execution_count": 7,
     "metadata": {},
     "output_type": "execute_result"
    }
   ],
   "source": [
    "env.grid"
   ]
  },
  {
   "cell_type": "code",
   "execution_count": 8,
   "metadata": {},
   "outputs": [],
   "source": [
    "env.add_food()"
   ]
  },
  {
   "cell_type": "code",
   "execution_count": 9,
   "metadata": {},
   "outputs": [
    {
     "data": {
      "text/plain": [
       "(2, 5)"
      ]
     },
     "execution_count": 9,
     "metadata": {},
     "output_type": "execute_result"
    }
   ],
   "source": [
    "env.food"
   ]
  },
  {
   "cell_type": "code",
   "execution_count": 10,
   "metadata": {},
   "outputs": [
    {
     "data": {
      "text/plain": [
       "(4, 0)"
      ]
     },
     "execution_count": 10,
     "metadata": {},
     "output_type": "execute_result"
    }
   ],
   "source": [
    "env.add_food()\n",
    "env.food"
   ]
  },
  {
   "cell_type": "code",
   "execution_count": null,
   "metadata": {},
   "outputs": [],
   "source": []
  }
 ],
 "metadata": {
  "kernelspec": {
   "display_name": "learn-env",
   "language": "python",
   "name": "learn-env"
  },
  "language_info": {
   "codemirror_mode": {
    "name": "ipython",
    "version": 3
   },
   "file_extension": ".py",
   "mimetype": "text/x-python",
   "name": "python",
   "nbconvert_exporter": "python",
   "pygments_lexer": "ipython3",
   "version": "3.6.6"
  }
 },
 "nbformat": 4,
 "nbformat_minor": 2
}
