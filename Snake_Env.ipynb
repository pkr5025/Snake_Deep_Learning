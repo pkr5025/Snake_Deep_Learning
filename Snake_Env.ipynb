{
 "cells": [
  {
   "cell_type": "code",
   "execution_count": 4,
   "metadata": {},
   "outputs": [],
   "source": [
    "import gym\n",
    "from gym import spaces\n",
    "from gym.utils import seeding"
   ]
  },
  {
   "cell_type": "code",
   "execution_count": 8,
   "metadata": {},
   "outputs": [],
   "source": [
    "import numpy as np"
   ]
  },
  {
   "cell_type": "code",
   "execution_count": 11,
   "metadata": {},
   "outputs": [],
   "source": [
    "class SnakeEnv(gym.Env):\n",
    "    #### GYM IMPLEMENTATION ###\n",
    "    metadata = {'render.modes': ['human', 'not_human']}\n",
    "    def __init__(self):\n",
    "    # Definitions for game.\n",
    "    # Board 15 x 15 to start\n",
    "        game_over = False \n",
    "        self.width = 15\n",
    "        self.height = 15\n",
    "        self.grid = np.array([np.zeros(self.width) for i in range(self.height)])\n",
    "    # Running score\n",
    "        self.score = 0\n",
    "    #Gym implementation members:\n",
    "        self.action_space = spaces.Discrete(4)\n",
    "        # each square can be empty, food, snake, snake head\n",
    "        self.observation_space = spaces.box(low = np.array([0,0,0]), high=np.array([self.width, self.height, 4]), dtype=np.int)\n",
    "\n",
    "        self.reset()\n",
    "    def step(self, action):\n",
    "        return\n",
    "    def reset(self):\n",
    "        return\n",
    "    def render(self, mode='human', close=False):\n",
    "        return\n",
    "    \n",
    "    ### SNAKE IMPLEMENTATION ###\n",
    "    def move(self, action):\n",
    "        return\n",
    "    def add_food(self):\n",
    "        return\n",
    "    def check_game_over(self):\n",
    "        return\n",
    "    \n",
    "    \n",
    "    \n",
    "    "
   ]
  },
  {
   "cell_type": "code",
   "execution_count": null,
   "metadata": {},
   "outputs": [],
   "source": []
  }
 ],
 "metadata": {
  "kernelspec": {
   "display_name": "learn-env",
   "language": "python",
   "name": "learn-env"
  },
  "language_info": {
   "codemirror_mode": {
    "name": "ipython",
    "version": 3
   },
   "file_extension": ".py",
   "mimetype": "text/x-python",
   "name": "python",
   "nbconvert_exporter": "python",
   "pygments_lexer": "ipython3",
   "version": "3.6.6"
  }
 },
 "nbformat": 4,
 "nbformat_minor": 2
}
