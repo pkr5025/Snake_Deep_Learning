{
 "cells": [
  {
   "cell_type": "code",
   "execution_count": 18,
   "metadata": {},
   "outputs": [],
   "source": [
    "import gym\n",
    "from gym import spaces\n",
    "from gym.utils import seeding\n",
    "from collections import deque\n",
    "from collections import defaultdict\n",
    "import copy\n",
    "%matplotlib notebook"
   ]
  },
  {
   "cell_type": "code",
   "execution_count": 2,
   "metadata": {},
   "outputs": [],
   "source": [
    "import numpy as np"
   ]
  },
  {
   "cell_type": "code",
   "execution_count": 3,
   "metadata": {},
   "outputs": [],
   "source": [
    "class SnakeEnv(gym.Env):\n",
    "    #### GYM IMPLEMENTATION ###\n",
    "    metadata = {'render.modes': ['human', 'not_human']}\n",
    "    def __init__(self):\n",
    "    # Definitions for game.\n",
    "    # Board 15 x 15 to start\n",
    "        self.score = 0\n",
    "        self.game_over = False \n",
    "        self.width = 10\n",
    "        self.height = 10\n",
    "        self.grid = np.array([np.zeros(self.width) for i in range(self.height)], dtype=object)\n",
    "        self.snake = deque()\n",
    "        # direction 0 = down, 1 = left, 2 = up, 3 = right\n",
    "        self.direction = 0\n",
    "    # Running score\n",
    "        self.score = 0\n",
    "    #Gym implementation members:\n",
    "        self.action_space = spaces.Discrete(4)\n",
    "        # each square can be empty, food, snake, snake head\n",
    "        self.observation_space = spaces.Box(low = np.array([0,0,0]), high=np.array([self.width, self.height, 4]), dtype=np.int)\n",
    "\n",
    "        self.reset()\n",
    "    def step(self, action):\n",
    "        ''' Perform one step of the game'''\n",
    "        self.move(action)\n",
    "        info = {}\n",
    "        return self.grid, self.score, self.game_over, info\n",
    "    def reset(self):\n",
    "        self.direction = 0\n",
    "        self.snake = deque()\n",
    "        self.grid = np.array([np.zeros(self.width) for i in range(self.height)], dtype=object)\n",
    "        i = np.random.randint(0,self.width- 2 ) + 1\n",
    "        j = np.random.randint(0,self.height - 2) + 1 \n",
    "        # * is a nonhead part of the snake\n",
    "        self.grid[i,j] = \"*\"\n",
    "        self.snake.append((i,j))\n",
    "        # H is the head of the snake\n",
    "        self.grid[i+1,j] = \"H\"\n",
    "        self.snake.append((i+1,j))\n",
    "        # X is food, set initial food\n",
    "        k,l = i,j\n",
    "        while ((i==k and j==l) or (i+1 ==k and j==l)):\n",
    "            k = np.random.randint(0,self.width- 2 ) + 1\n",
    "            l = np.random.randint(0,self.height - 2) + 1\n",
    "        self.grid[k,l] = \"X\"\n",
    "        self.food = (k,l)\n",
    "    def updategrid(self):\n",
    "        self.grid = np.array([np.zeros(self.width) for i in range(self.height)], dtype=object)\n",
    "        temp_snake = self.snake.copy()\n",
    "        self.grid[temp_snake[-1]] = \"H\"\n",
    "        temp_snake.pop()\n",
    "        for body in temp_snake:\n",
    "            self.grid[body] = \"*\"\n",
    "        self.grid[self.food] = \"X\"\n",
    "    def render(self, mode='human', close=False):\n",
    "        print(self.grid)\n",
    "                        \n",
    "    \n",
    "    ### SNAKE IMPLEMENTATION ###\n",
    "    def move(self, action):\n",
    "        ## check direction, if direction is opposite of input, continue straight\n",
    "        if (self.direction %2 == action %2):\n",
    "            action = self.direction\n",
    "        self.direction = action\n",
    "        new_pos = self.snake[-1]\n",
    "        if (action == 0): #down\n",
    "            new_pos_row = self.snake[-1][0]+1\n",
    "            new_pos_col = self.snake[-1][1]\n",
    "        if (action == 1): #left\n",
    "            new_pos_row = self.snake[-1][0]\n",
    "            new_pos_col = self.snake[-1][1]-1\n",
    "        if (action == 2): #up\n",
    "            new_pos_row = self.snake[-1][0]-1\n",
    "            new_pos_col = self.snake[-1][1]\n",
    "        if (action == 3): #right\n",
    "            new_pos_row = self.snake[-1][0]\n",
    "            new_pos_col = self.snake[-1][1]+1\n",
    "        # Check if snake CRASHES\n",
    "        new_pos = (new_pos_row, new_pos_col)\n",
    "        self.check_game_over(new_pos)\n",
    "        if (self.game_over):\n",
    "            self.updategrid()\n",
    "            print(self.score)\n",
    "            return\n",
    "        self.snake.append(new_pos)\n",
    "        \n",
    "        # Check if snake grows\n",
    "        if (new_pos != self.food):\n",
    "            self.snake.popleft()\n",
    "        else:\n",
    "            self.score +=1\n",
    "            self.add_food()\n",
    "        self.updategrid()\n",
    "    def add_food(self):\n",
    "        x_coord = np.random.randint(0,self.width-1)\n",
    "        y_coord = np.random.randint(0,self.height-1)\n",
    "        self.food = (x_coord, y_coord)\n",
    "        while(self.food in self.snake):\n",
    "            x_coord = np.random.randint(0,self.width-1)\n",
    "            y_coord = np.random.randint(0,self.height-1)\n",
    "            self.food = (x_coord, y_coord)\n",
    "            \n",
    "    def check_game_over(self, new_pos):\n",
    "        # Check if snake hits itself\n",
    "        if new_pos in self.snake:\n",
    "            self.game_over = True \n",
    "        # Check if snake hits the wall\n",
    "        if ((new_pos[0]<0) or (new_pos[0]>=self.width) or (new_pos[1]<0) or (new_pos[1]>=self.height)):\n",
    "            self.game_over = True\n",
    "    \n",
    "    \n",
    "    \n",
    "    "
   ]
  },
  {
   "cell_type": "code",
   "execution_count": 4,
   "metadata": {
    "scrolled": false
   },
   "outputs": [],
   "source": [
    "def random_game():\n",
    "    env = SnakeEnv()\n",
    "    while(not env.game_over):\n",
    "        action = np.random.randint(0,4)\n",
    "        env.step(action)\n",
    "        env.render()\n",
    "        print(action, env.game_over)\n",
    "    return"
   ]
  },
  {
   "cell_type": "code",
   "execution_count": 25,
   "metadata": {},
   "outputs": [],
   "source": [
    "def montecarlo(game, number_of_games, prints=False):\n",
    "    def random_game_initial_score(game, initial_move):\n",
    "        grid,_, lost, _ = game.step(initial_move)\n",
    "        #print(grid)\n",
    "        while( not lost):\n",
    "            grid,_, lost, _ = game.step(np.random.randint(4))\n",
    "            #print(grid)\n",
    "        return initial_move, game.score\n",
    "    def get_move(game):\n",
    "        grids = []\n",
    "        for i in range(number_of_games):\n",
    "            grids.append(copy.deepcopy(game))\n",
    "        move_scores = defaultdict(list)\n",
    "        i=0\n",
    "        for games in grids:\n",
    "            initial_move, score = random_game_initial_score(games, i%4)\n",
    "            moves_scores[initial_move].append(score)\n",
    "            i+=1\n",
    "        score = 0\n",
    "        print('HI', move_scores.items())\n",
    "        for key, value in move_scores.items():\n",
    "            if (prints == True):\n",
    "                print(key, sum(value)/len(value))\n",
    "            if (sum(value)/len(value) > score):\n",
    "                move = key\n",
    "                score = sum(value)/len(value)\n",
    "        if (prints == True):\n",
    "            print(move, score)\n",
    "        return move\n",
    "    get_move(game)\n",
    "    random_game_initial_score(game, 0)\n",
    "            "
   ]
  },
  {
   "cell_type": "code",
   "execution_count": 26,
   "metadata": {},
   "outputs": [
    {
     "name": "stdout",
     "output_type": "stream",
     "text": [
      "HI dict_items([])\n"
     ]
    },
    {
     "ename": "UnboundLocalError",
     "evalue": "local variable 'move' referenced before assignment",
     "output_type": "error",
     "traceback": [
      "\u001b[0;31m---------------------------------------------------------------------------\u001b[0m",
      "\u001b[0;31mUnboundLocalError\u001b[0m                         Traceback (most recent call last)",
      "\u001b[0;32m<ipython-input-26-e23b1b145d3e>\u001b[0m in \u001b[0;36m<module>\u001b[0;34m()\u001b[0m\n\u001b[1;32m      1\u001b[0m \u001b[0menv\u001b[0m \u001b[0;34m=\u001b[0m \u001b[0mSnakeEnv\u001b[0m\u001b[0;34m(\u001b[0m\u001b[0;34m)\u001b[0m\u001b[0;34m\u001b[0m\u001b[0m\n\u001b[0;32m----> 2\u001b[0;31m \u001b[0mmontecarlo\u001b[0m\u001b[0;34m(\u001b[0m\u001b[0menv\u001b[0m\u001b[0;34m,\u001b[0m\u001b[0;36m0\u001b[0m\u001b[0;34m,\u001b[0m\u001b[0;32mFalse\u001b[0m\u001b[0;34m)\u001b[0m\u001b[0;34m\u001b[0m\u001b[0m\n\u001b[0m",
      "\u001b[0;32m<ipython-input-25-5f96dec58f0e>\u001b[0m in \u001b[0;36mmontecarlo\u001b[0;34m(game, number_of_games, prints)\u001b[0m\n\u001b[1;32m     28\u001b[0m             \u001b[0mprint\u001b[0m\u001b[0;34m(\u001b[0m\u001b[0mmove\u001b[0m\u001b[0;34m,\u001b[0m \u001b[0mscore\u001b[0m\u001b[0;34m)\u001b[0m\u001b[0;34m\u001b[0m\u001b[0m\n\u001b[1;32m     29\u001b[0m         \u001b[0;32mreturn\u001b[0m \u001b[0mmove\u001b[0m\u001b[0;34m\u001b[0m\u001b[0m\n\u001b[0;32m---> 30\u001b[0;31m     \u001b[0mget_move\u001b[0m\u001b[0;34m(\u001b[0m\u001b[0mgame\u001b[0m\u001b[0;34m)\u001b[0m\u001b[0;34m\u001b[0m\u001b[0m\n\u001b[0m\u001b[1;32m     31\u001b[0m     \u001b[0mrandom_game_initial_score\u001b[0m\u001b[0;34m(\u001b[0m\u001b[0mgame\u001b[0m\u001b[0;34m,\u001b[0m \u001b[0;36m0\u001b[0m\u001b[0;34m)\u001b[0m\u001b[0;34m\u001b[0m\u001b[0m\n\u001b[1;32m     32\u001b[0m \u001b[0;34m\u001b[0m\u001b[0m\n",
      "\u001b[0;32m<ipython-input-25-5f96dec58f0e>\u001b[0m in \u001b[0;36mget_move\u001b[0;34m(game)\u001b[0m\n\u001b[1;32m     27\u001b[0m         \u001b[0;32mif\u001b[0m \u001b[0;34m(\u001b[0m\u001b[0mprints\u001b[0m \u001b[0;34m==\u001b[0m \u001b[0;32mTrue\u001b[0m\u001b[0;34m)\u001b[0m\u001b[0;34m:\u001b[0m\u001b[0;34m\u001b[0m\u001b[0m\n\u001b[1;32m     28\u001b[0m             \u001b[0mprint\u001b[0m\u001b[0;34m(\u001b[0m\u001b[0mmove\u001b[0m\u001b[0;34m,\u001b[0m \u001b[0mscore\u001b[0m\u001b[0;34m)\u001b[0m\u001b[0;34m\u001b[0m\u001b[0m\n\u001b[0;32m---> 29\u001b[0;31m         \u001b[0;32mreturn\u001b[0m \u001b[0mmove\u001b[0m\u001b[0;34m\u001b[0m\u001b[0m\n\u001b[0m\u001b[1;32m     30\u001b[0m     \u001b[0mget_move\u001b[0m\u001b[0;34m(\u001b[0m\u001b[0mgame\u001b[0m\u001b[0;34m)\u001b[0m\u001b[0;34m\u001b[0m\u001b[0m\n\u001b[1;32m     31\u001b[0m     \u001b[0mrandom_game_initial_score\u001b[0m\u001b[0;34m(\u001b[0m\u001b[0mgame\u001b[0m\u001b[0;34m,\u001b[0m \u001b[0;36m0\u001b[0m\u001b[0;34m)\u001b[0m\u001b[0;34m\u001b[0m\u001b[0m\n",
      "\u001b[0;31mUnboundLocalError\u001b[0m: local variable 'move' referenced before assignment"
     ]
    }
   ],
   "source": [
    "env = SnakeEnv()\n",
    "montecarlo(env,0,False)\n"
   ]
  },
  {
   "cell_type": "code",
   "execution_count": 151,
   "metadata": {},
   "outputs": [
    {
     "data": {
      "text/plain": [
       "(2, 4)"
      ]
     },
     "execution_count": 151,
     "metadata": {},
     "output_type": "execute_result"
    }
   ],
   "source": [
    "a,b"
   ]
  },
  {
   "cell_type": "code",
   "execution_count": 112,
   "metadata": {},
   "outputs": [
    {
     "data": {
      "text/plain": [
       "True"
      ]
     },
     "execution_count": 112,
     "metadata": {},
     "output_type": "execute_result"
    }
   ],
   "source": [
    "env.game_over"
   ]
  },
  {
   "cell_type": "code",
   "execution_count": 8,
   "metadata": {},
   "outputs": [],
   "source": [
    "env.add_food()"
   ]
  },
  {
   "cell_type": "code",
   "execution_count": 9,
   "metadata": {},
   "outputs": [
    {
     "data": {
      "text/plain": [
       "(2, 5)"
      ]
     },
     "execution_count": 9,
     "metadata": {},
     "output_type": "execute_result"
    }
   ],
   "source": [
    "env.food"
   ]
  },
  {
   "cell_type": "code",
   "execution_count": 10,
   "metadata": {},
   "outputs": [
    {
     "data": {
      "text/plain": [
       "(4, 0)"
      ]
     },
     "execution_count": 10,
     "metadata": {},
     "output_type": "execute_result"
    }
   ],
   "source": [
    "env.add_food()\n",
    "env.food"
   ]
  },
  {
   "cell_type": "code",
   "execution_count": null,
   "metadata": {},
   "outputs": [],
   "source": []
  }
 ],
 "metadata": {
  "kernelspec": {
   "display_name": "learn-env",
   "language": "python",
   "name": "learn-env"
  },
  "language_info": {
   "codemirror_mode": {
    "name": "ipython",
    "version": 3
   },
   "file_extension": ".py",
   "mimetype": "text/x-python",
   "name": "python",
   "nbconvert_exporter": "python",
   "pygments_lexer": "ipython3",
   "version": "3.6.6"
  }
 },
 "nbformat": 4,
 "nbformat_minor": 2
}
